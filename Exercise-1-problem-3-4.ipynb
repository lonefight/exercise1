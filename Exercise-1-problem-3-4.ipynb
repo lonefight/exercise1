{
 "cells": [
  {
   "cell_type": "markdown",
   "metadata": {
    "deletable": false,
    "editable": false
   },
   "source": [
    "# Problems 3 and 4\n",
    "\n",
    "A very common task handled by GIS is to convert a list of coordinates into geographic objects. For instance, you might have a table with latitude and longitude values, and want to use the locations in a map.\n",
    "Python is an excellent tool for this kind of a task: it can read data from (almost) any input format (CSV, text, Excel, GPX, various databases).\n",
    "\n",
    "In this exercise, we concentrate on reading data using [pandas](https://pandas.pydata.org/), and on creating geometry objects using [shapely](https://shapely.readthedocs.io/). \n",
    "Later on in the course, we will get to know other packages that are better tailored to geographic data, and will also learn how to write data to files, including to GIS file formats.\n",
    "\n",
    "## Sample data set\n",
    "\n",
    "For this exercise, we read the data from a file that lists travel times between different locations in Helsinki.\n",
    "The data is stored in a semicolon-separated text file, which you can find in the `data` folder of this repository, its file name is [`travel_times_2015_helsinki.txt`](data/travel_times_2015_helsinki.txt).\n",
    "\n",
    "The first four rows of our data look like this:\n",
    "\n",
    "```\n",
    "from_id;to_id;fromid_toid;route_number;at;from_x;from_y;to_x;to_y;total_route_time;route_time;route_distance\n",
    "5861326;5785640;5861326_5785640;1;08:10;24.9704379;60.3119173;24.8560344;60.399940599999994;125.0;99.0;22917.6\n",
    "5861326;5785641;5861326_5785641;1;08:10;24.9704379;60.3119173;24.8605682;60.4000135;123.0;102.0;23123.5\n",
    "5861326;5785642;5861326_5785642;1;08:10;24.9704379;60.3119173;24.865102;60.4000863;125.0;103.0;23241.3\n",
    "```\n",
    "\n",
    "In this exercise, we are interested in the following columns:\n",
    "\n",
    "| Column name        | Description                                              |\n",
    "|:------------------ |:-------------------------------------------------------- |\n",
    "| `from_x`           | x-coordinate of the **origin** location (longitude)      |\n",
    "| `from_y`           | y-coordinate of the **origin** location (latitude)       |\n",
    "| `to_x`             | x-coordinate of the **destination** location (longitude) |\n",
    "| `to_y`             | y-coordinate of the **destination** location (latitude)  |\n",
    "| `total_route_time` | Travel time with public transportation at the route      |\n",
    "\n",
    "Read more about this data set on the blog of the Digital Geography Lab: https://blogs.helsinki.fi/accessibility/helsinki-region-travel-time-matrix/."
   ]
  },
  {
   "cell_type": "markdown",
   "metadata": {
    "deletable": false,
    "editable": false
   },
   "source": [
    "\n",
    "----\n",
    "\n",
    "## Problem 3: Reading coordinates from a text file, and creating geometries (*5 points*)\n",
    "\n",
    "In this problem, your task is to read data from the file described above, and create two lists of points representing \n",
    "the origins and destinations of the routes described in the data set.\n",
    "\n",
    "This task entails multiple steps:\n",
    "\n",
    "1. Read the data into a `pandas.DataFrame`\n",
    "2. Discard all unnecessary columns (this is good practice, as it helps reduce the memory footprint of a program)\n",
    "3. Create two lists of `shapely.geometry.Point`s\n",
    "\n",
    "Let’s go step-by-step. \n",
    "\n",
    "Remember that there are code cells that you can and should modify (they initially contain only a comment `# ADD YOUR OWN CODE HERE`),\n",
    "and other code cells that you can and should run (but cannot modify) to test whether your code fulfils the requirements.\n"
   ]
  },
  {
   "cell_type": "markdown",
   "metadata": {
    "deletable": false,
    "editable": false,
    "tags": []
   },
   "source": [
    "\n",
    "----\n",
    "\n",
    "#### (1)\n",
    "\n",
    "First, use `pandas` to read the file into a variable `data`. You can revisit [lesson 5 of the Geo-Python course](https://geo-python-site.readthedocs.io/en/latest/notebooks/L5/exploring-data-using-pandas.html#reading-a-data-file-with-pandas) and consult the [pandas documentation](https://pandas.pydata.org/docs/user_guide/) to find the best way to do this."
   ]
  },
  {
   "cell_type": "code",
   "execution_count": 1,
   "metadata": {},
   "outputs": [],
   "source": [
    "# ADD YOUR OWN CODE HERE\n",
    "import pandas as pd\n",
    "# Read the file into a pandas DataFrame\n",
    "filepath = \"D:/Google Downloads/travel_times_2015_helsinki.txt\"\n",
    "col_names = [\"from_id\",\"to_id\",\"fromid_toid\",\"route_number\",\"at\",\"from_x\",\"from_y\",\"to_x\",\"to_y\",\"total_route_time\",\"route_time\",\"route_distance\"]\n",
    "usecols = [\"to_x\",\"to_y\",\"from_x\",\"from_y\",\"total_route_time\"]\n",
    "data = pd.read_csv(filepath, sep=';', names=[\"from_id\",\"to_id\",\"fromid_toid\",\"route_number\",\"at\",\"from_x\",\"from_y\",\"to_x\",\"to_y\",\"total_route_time\",\"route_time\",\"route_distance\"])\n",
    "data = data.loc[:, [\"from_x\",\"from_y\",\"to_x\",\"to_y\"]]"
   ]
  },
  {
   "cell_type": "markdown",
   "metadata": {
    "deletable": false,
    "editable": false
   },
   "source": [
    "As a little sanity check, print the number of rows and columns of the data set:"
   ]
  },
  {
   "cell_type": "code",
   "execution_count": 2,
   "metadata": {
    "deletable": false,
    "editable": false
   },
   "outputs": [
    {
     "name": "stdout",
     "output_type": "stream",
     "text": [
      "(14644, 4)\n"
     ]
    }
   ],
   "source": [
    "# ADD YOU OWN CODE HERE\n",
    "print(data.shape)"
   ]
  },
  {
   "cell_type": "markdown",
   "metadata": {
    "deletable": false,
    "editable": false
   },
   "source": [
    "If you loaded the data set successfully, the following code cell will print the first few rows of the data:"
   ]
  },
  {
   "cell_type": "code",
   "execution_count": 3,
   "metadata": {
    "deletable": false,
    "editable": false
   },
   "outputs": [
    {
     "data": {
      "text/html": [
       "<div>\n",
       "<style scoped>\n",
       "    .dataframe tbody tr th:only-of-type {\n",
       "        vertical-align: middle;\n",
       "    }\n",
       "\n",
       "    .dataframe tbody tr th {\n",
       "        vertical-align: top;\n",
       "    }\n",
       "\n",
       "    .dataframe thead th {\n",
       "        text-align: right;\n",
       "    }\n",
       "</style>\n",
       "<table border=\"1\" class=\"dataframe\">\n",
       "  <thead>\n",
       "    <tr style=\"text-align: right;\">\n",
       "      <th></th>\n",
       "      <th>from_x</th>\n",
       "      <th>from_y</th>\n",
       "      <th>to_x</th>\n",
       "      <th>to_y</th>\n",
       "    </tr>\n",
       "  </thead>\n",
       "  <tbody>\n",
       "    <tr>\n",
       "      <th>from_id</th>\n",
       "      <td>from_y</td>\n",
       "      <td>to_x</td>\n",
       "      <td>to_y</td>\n",
       "      <td>total_route_time</td>\n",
       "    </tr>\n",
       "    <tr>\n",
       "      <th>5861326</th>\n",
       "      <td>60.3119173</td>\n",
       "      <td>24.8560344</td>\n",
       "      <td>60.399940599999994</td>\n",
       "      <td>125.0</td>\n",
       "    </tr>\n",
       "    <tr>\n",
       "      <th>5861326</th>\n",
       "      <td>60.3119173</td>\n",
       "      <td>24.8605682</td>\n",
       "      <td>60.4000135</td>\n",
       "      <td>123.0</td>\n",
       "    </tr>\n",
       "    <tr>\n",
       "      <th>5861326</th>\n",
       "      <td>60.3119173</td>\n",
       "      <td>24.865102</td>\n",
       "      <td>60.4000863</td>\n",
       "      <td>125.0</td>\n",
       "    </tr>\n",
       "    <tr>\n",
       "      <th>5861326</th>\n",
       "      <td>60.3119173</td>\n",
       "      <td>24.8696358</td>\n",
       "      <td>60.4001589</td>\n",
       "      <td>129.0</td>\n",
       "    </tr>\n",
       "  </tbody>\n",
       "</table>\n",
       "</div>"
      ],
      "text/plain": [
       "             from_x      from_y                to_x              to_y\n",
       "from_id      from_y        to_x                to_y  total_route_time\n",
       "5861326  60.3119173  24.8560344  60.399940599999994             125.0\n",
       "5861326  60.3119173  24.8605682          60.4000135             123.0\n",
       "5861326  60.3119173   24.865102          60.4000863             125.0\n",
       "5861326  60.3119173  24.8696358          60.4001589             129.0"
      ]
     },
     "execution_count": 3,
     "metadata": {},
     "output_type": "execute_result"
    }
   ],
   "source": [
    "# NON-EDITABLE CODE CELL FOR TESTING YOUR SOLUTION\n",
    "data.head()"
   ]
  },
  {
   "cell_type": "markdown",
   "metadata": {
    "deletable": false,
    "editable": false,
    "tags": []
   },
   "source": [
    "\n",
    "----\n",
    "#### (2)\n",
    "\n",
    "Now, select the 4 columns that contain coordinate information (**`from_x`**, **`from_y`**, **`to_x`**, **`to_y`**), and store them in a DataFrame **`data`**. \n",
    "(i.e. update the variable `data`  to contain only these four columns).\n"
   ]
  },
  {
   "cell_type": "code",
   "execution_count": 4,
   "metadata": {},
   "outputs": [],
   "source": [
    "# ADD YOUR OWN CODE HERE\n"
   ]
  },
  {
   "cell_type": "markdown",
   "metadata": {
    "deletable": false,
    "editable": false
   },
   "source": [
    "Run the following code cell to test whether you have successfully replaced `data` with only the required data columns: it prints an error if you haven’t."
   ]
  },
  {
   "cell_type": "code",
   "execution_count": 4,
   "metadata": {
    "deletable": false,
    "editable": false
   },
   "outputs": [],
   "source": [
    "# NON-EDITABLE CODE CELL FOR TESTING YOUR SOLUTION\n",
    "assert list(data.columns) == [\"from_x\", \"from_y\", \"to_x\", \"to_y\"], \"Error: `data` does not (or not only) contain the four columns it should\""
   ]
  },
  {
   "cell_type": "markdown",
   "metadata": {
    "deletable": false,
    "editable": false,
    "tags": []
   },
   "source": [
    "\n",
    "----\n",
    "\n",
    "#### (3)\n",
    "\n",
    "Finally, create two lists called **`origin_points`** and **`destination_points`** that contain `shapely.geometry.Point` objects created using the coordinates from `data`. \n",
    "\n",
    "In particular, the origin points in `origin_points` should be based on columns `from_x` and `from_y`, and the destination points in `destination_points` on columns `to_x` and `to_y`.\n",
    "\n",
    "There are many ways to achieve this, find two possible approaches below (you can implement either one of them):\n",
    "\n",
    "##### **Approach A**\n",
    "\n",
    "- Create two empty lists for the origin and destination points, respectively\n",
    "- Use a for-loop to iterate over the rows of your dataframe:\n",
    "    - For each row, create a `shapely.geometry.Point` object based on the coordinate columns\n",
    "    - Append the point object to the `origin_points` and `destination_point` lists\n",
    "\n",
    "You can consult [lesson 6 of Geo-Python](https://geo-python-site.readthedocs.io/en/latest/notebooks/L6/advanced-data-processing-with-pandas.html#iterating-over-rows) to revisit how to loop over the rows of a `pandas.DataFrame`.\n",
    "\n",
    "##### **Approach B (more advanced)**\n",
    "\n",
    "- Make use of the `.apply()` function of the `pandas.DataFrame` to operate on all rows at once (see its [documentation](https://pandas.pydata.org/docs/reference/api/pandas.DataFrame.apply.html), *HINT:* you might want to use the `axis` parameter)\n",
    "- Use the `shapely.geometry.Point` constructor directly, or wrap it into a [lambda function](https://towardsdatascience.com/apply-and-lambda-usage-in-pandas-b13a1ea037f7)\n",
    "- Finally, convert the output `pandas.Series` into `list`s\n",
    "\n",
    "\n",
    "\n"
   ]
  },
  {
   "cell_type": "code",
   "execution_count": 8,
   "metadata": {},
   "outputs": [
    {
     "name": "stdout",
     "output_type": "stream",
     "text": [
      "count          14644\n",
      "unique             2\n",
      "top       60.3119173\n",
      "freq           14643\n",
      "Name: from_x, dtype: object\n",
      "count          14644\n",
      "unique         14635\n",
      "top       24.8010346\n",
      "freq               2\n",
      "Name: from_y, dtype: object\n"
     ]
    },
    {
     "ename": "TypeError",
     "evalue": "ufunc 'points' not supported for the input types, and the inputs could not be safely coerced to any supported types according to the casting rule ''safe''",
     "output_type": "error",
     "traceback": [
      "\u001b[1;31m---------------------------------------------------------------------------\u001b[0m",
      "\u001b[1;31mTypeError\u001b[0m                                 Traceback (most recent call last)",
      "Cell \u001b[1;32mIn [8], line 7\u001b[0m\n\u001b[0;32m      5\u001b[0m \u001b[39mprint\u001b[39m(data[\u001b[39m\"\u001b[39m\u001b[39mfrom_x\u001b[39m\u001b[39m\"\u001b[39m]\u001b[39m.\u001b[39mdescribe())\n\u001b[0;32m      6\u001b[0m \u001b[39mprint\u001b[39m(data[\u001b[39m\"\u001b[39m\u001b[39mfrom_y\u001b[39m\u001b[39m\"\u001b[39m]\u001b[39m.\u001b[39mdescribe())\n\u001b[1;32m----> 7\u001b[0m origin_points \u001b[39m=\u001b[39m data\u001b[39m.\u001b[39;49mapply(\u001b[39mlambda\u001b[39;49;00m row: Point(row[\u001b[39m\"\u001b[39;49m\u001b[39mfrom_x\u001b[39;49m\u001b[39m\"\u001b[39;49m], row[\u001b[39m\"\u001b[39;49m\u001b[39mfrom_y\u001b[39;49m\u001b[39m\"\u001b[39;49m]), axis\u001b[39m=\u001b[39;49m\u001b[39m1\u001b[39;49m)\n\u001b[0;32m      8\u001b[0m destination_points \u001b[39m=\u001b[39m data\u001b[39m.\u001b[39mapply(\u001b[39mlambda\u001b[39;00m row: Point(row[\u001b[39m\"\u001b[39m\u001b[39mto_x\u001b[39m\u001b[39m\"\u001b[39m], row[\u001b[39m\"\u001b[39m\u001b[39mto_y\u001b[39m\u001b[39m\"\u001b[39m]), axis\u001b[39m=\u001b[39m\u001b[39m1\u001b[39m)\n",
      "File \u001b[1;32mc:\\Users\\Spencer\\miniconda3\\envs\\autogis\\lib\\site-packages\\pandas\\core\\frame.py:9565\u001b[0m, in \u001b[0;36mDataFrame.apply\u001b[1;34m(self, func, axis, raw, result_type, args, **kwargs)\u001b[0m\n\u001b[0;32m   9554\u001b[0m \u001b[39mfrom\u001b[39;00m \u001b[39mpandas\u001b[39;00m\u001b[39m.\u001b[39;00m\u001b[39mcore\u001b[39;00m\u001b[39m.\u001b[39;00m\u001b[39mapply\u001b[39;00m \u001b[39mimport\u001b[39;00m frame_apply\n\u001b[0;32m   9556\u001b[0m op \u001b[39m=\u001b[39m frame_apply(\n\u001b[0;32m   9557\u001b[0m     \u001b[39mself\u001b[39m,\n\u001b[0;32m   9558\u001b[0m     func\u001b[39m=\u001b[39mfunc,\n\u001b[1;32m   (...)\u001b[0m\n\u001b[0;32m   9563\u001b[0m     kwargs\u001b[39m=\u001b[39mkwargs,\n\u001b[0;32m   9564\u001b[0m )\n\u001b[1;32m-> 9565\u001b[0m \u001b[39mreturn\u001b[39;00m op\u001b[39m.\u001b[39;49mapply()\u001b[39m.\u001b[39m__finalize__(\u001b[39mself\u001b[39m, method\u001b[39m=\u001b[39m\u001b[39m\"\u001b[39m\u001b[39mapply\u001b[39m\u001b[39m\"\u001b[39m)\n",
      "File \u001b[1;32mc:\\Users\\Spencer\\miniconda3\\envs\\autogis\\lib\\site-packages\\pandas\\core\\apply.py:746\u001b[0m, in \u001b[0;36mFrameApply.apply\u001b[1;34m(self)\u001b[0m\n\u001b[0;32m    743\u001b[0m \u001b[39melif\u001b[39;00m \u001b[39mself\u001b[39m\u001b[39m.\u001b[39mraw:\n\u001b[0;32m    744\u001b[0m     \u001b[39mreturn\u001b[39;00m \u001b[39mself\u001b[39m\u001b[39m.\u001b[39mapply_raw()\n\u001b[1;32m--> 746\u001b[0m \u001b[39mreturn\u001b[39;00m \u001b[39mself\u001b[39;49m\u001b[39m.\u001b[39;49mapply_standard()\n",
      "File \u001b[1;32mc:\\Users\\Spencer\\miniconda3\\envs\\autogis\\lib\\site-packages\\pandas\\core\\apply.py:873\u001b[0m, in \u001b[0;36mFrameApply.apply_standard\u001b[1;34m(self)\u001b[0m\n\u001b[0;32m    872\u001b[0m \u001b[39mdef\u001b[39;00m \u001b[39mapply_standard\u001b[39m(\u001b[39mself\u001b[39m):\n\u001b[1;32m--> 873\u001b[0m     results, res_index \u001b[39m=\u001b[39m \u001b[39mself\u001b[39;49m\u001b[39m.\u001b[39;49mapply_series_generator()\n\u001b[0;32m    875\u001b[0m     \u001b[39m# wrap results\u001b[39;00m\n\u001b[0;32m    876\u001b[0m     \u001b[39mreturn\u001b[39;00m \u001b[39mself\u001b[39m\u001b[39m.\u001b[39mwrap_results(results, res_index)\n",
      "File \u001b[1;32mc:\\Users\\Spencer\\miniconda3\\envs\\autogis\\lib\\site-packages\\pandas\\core\\apply.py:889\u001b[0m, in \u001b[0;36mFrameApply.apply_series_generator\u001b[1;34m(self)\u001b[0m\n\u001b[0;32m    886\u001b[0m \u001b[39mwith\u001b[39;00m option_context(\u001b[39m\"\u001b[39m\u001b[39mmode.chained_assignment\u001b[39m\u001b[39m\"\u001b[39m, \u001b[39mNone\u001b[39;00m):\n\u001b[0;32m    887\u001b[0m     \u001b[39mfor\u001b[39;00m i, v \u001b[39min\u001b[39;00m \u001b[39menumerate\u001b[39m(series_gen):\n\u001b[0;32m    888\u001b[0m         \u001b[39m# ignore SettingWithCopy here in case the user mutates\u001b[39;00m\n\u001b[1;32m--> 889\u001b[0m         results[i] \u001b[39m=\u001b[39m \u001b[39mself\u001b[39;49m\u001b[39m.\u001b[39;49mf(v)\n\u001b[0;32m    890\u001b[0m         \u001b[39mif\u001b[39;00m \u001b[39misinstance\u001b[39m(results[i], ABCSeries):\n\u001b[0;32m    891\u001b[0m             \u001b[39m# If we have a view on v, we need to make a copy because\u001b[39;00m\n\u001b[0;32m    892\u001b[0m             \u001b[39m#  series_generator will swap out the underlying data\u001b[39;00m\n\u001b[0;32m    893\u001b[0m             results[i] \u001b[39m=\u001b[39m results[i]\u001b[39m.\u001b[39mcopy(deep\u001b[39m=\u001b[39m\u001b[39mFalse\u001b[39;00m)\n",
      "Cell \u001b[1;32mIn [8], line 7\u001b[0m, in \u001b[0;36m<lambda>\u001b[1;34m(row)\u001b[0m\n\u001b[0;32m      5\u001b[0m \u001b[39mprint\u001b[39m(data[\u001b[39m\"\u001b[39m\u001b[39mfrom_x\u001b[39m\u001b[39m\"\u001b[39m]\u001b[39m.\u001b[39mdescribe())\n\u001b[0;32m      6\u001b[0m \u001b[39mprint\u001b[39m(data[\u001b[39m\"\u001b[39m\u001b[39mfrom_y\u001b[39m\u001b[39m\"\u001b[39m]\u001b[39m.\u001b[39mdescribe())\n\u001b[1;32m----> 7\u001b[0m origin_points \u001b[39m=\u001b[39m data\u001b[39m.\u001b[39mapply(\u001b[39mlambda\u001b[39;00m row: Point(row[\u001b[39m\"\u001b[39;49m\u001b[39mfrom_x\u001b[39;49m\u001b[39m\"\u001b[39;49m], row[\u001b[39m\"\u001b[39;49m\u001b[39mfrom_y\u001b[39;49m\u001b[39m\"\u001b[39;49m]), axis\u001b[39m=\u001b[39m\u001b[39m1\u001b[39m)\n\u001b[0;32m      8\u001b[0m destination_points \u001b[39m=\u001b[39m data\u001b[39m.\u001b[39mapply(\u001b[39mlambda\u001b[39;00m row: Point(row[\u001b[39m\"\u001b[39m\u001b[39mto_x\u001b[39m\u001b[39m\"\u001b[39m], row[\u001b[39m\"\u001b[39m\u001b[39mto_y\u001b[39m\u001b[39m\"\u001b[39m]), axis\u001b[39m=\u001b[39m\u001b[39m1\u001b[39m)\n",
      "File \u001b[1;32mc:\\Users\\Spencer\\miniconda3\\envs\\autogis\\lib\\site-packages\\shapely\\geometry\\point.py:73\u001b[0m, in \u001b[0;36mPoint.__new__\u001b[1;34m(self, *args)\u001b[0m\n\u001b[0;32m     69\u001b[0m \u001b[39melse\u001b[39;00m:\n\u001b[0;32m     70\u001b[0m     \u001b[39m# 2 or 3 args\u001b[39;00m\n\u001b[0;32m     71\u001b[0m     coords \u001b[39m=\u001b[39m np\u001b[39m.\u001b[39marray(args)\u001b[39m.\u001b[39msqueeze()\n\u001b[1;32m---> 73\u001b[0m geom \u001b[39m=\u001b[39m shapely\u001b[39m.\u001b[39;49mpoints(coords)\n\u001b[0;32m     74\u001b[0m \u001b[39mif\u001b[39;00m \u001b[39mnot\u001b[39;00m \u001b[39misinstance\u001b[39m(geom, Point):\n\u001b[0;32m     75\u001b[0m     \u001b[39mraise\u001b[39;00m \u001b[39mValueError\u001b[39;00m(\u001b[39m\"\u001b[39m\u001b[39mInvalid values passed to Point constructor\u001b[39m\u001b[39m\"\u001b[39m)\n",
      "File \u001b[1;32mc:\\Users\\Spencer\\miniconda3\\envs\\autogis\\lib\\site-packages\\shapely\\decorators.py:77\u001b[0m, in \u001b[0;36mmultithreading_enabled.<locals>.wrapped\u001b[1;34m(*args, **kwargs)\u001b[0m\n\u001b[0;32m     75\u001b[0m     \u001b[39mfor\u001b[39;00m arr \u001b[39min\u001b[39;00m array_args:\n\u001b[0;32m     76\u001b[0m         arr\u001b[39m.\u001b[39mflags\u001b[39m.\u001b[39mwriteable \u001b[39m=\u001b[39m \u001b[39mFalse\u001b[39;00m\n\u001b[1;32m---> 77\u001b[0m     \u001b[39mreturn\u001b[39;00m func(\u001b[39m*\u001b[39margs, \u001b[39m*\u001b[39m\u001b[39m*\u001b[39mkwargs)\n\u001b[0;32m     78\u001b[0m \u001b[39mfinally\u001b[39;00m:\n\u001b[0;32m     79\u001b[0m     \u001b[39mfor\u001b[39;00m arr, old_flag \u001b[39min\u001b[39;00m \u001b[39mzip\u001b[39m(array_args, old_flags):\n",
      "File \u001b[1;32mc:\\Users\\Spencer\\miniconda3\\envs\\autogis\\lib\\site-packages\\shapely\\creation.py:74\u001b[0m, in \u001b[0;36mpoints\u001b[1;34m(coords, y, z, indices, out, **kwargs)\u001b[0m\n\u001b[0;32m     72\u001b[0m coords \u001b[39m=\u001b[39m _xyz_to_coords(coords, y, z)\n\u001b[0;32m     73\u001b[0m \u001b[39mif\u001b[39;00m indices \u001b[39mis\u001b[39;00m \u001b[39mNone\u001b[39;00m:\n\u001b[1;32m---> 74\u001b[0m     \u001b[39mreturn\u001b[39;00m lib\u001b[39m.\u001b[39mpoints(coords, out\u001b[39m=\u001b[39mout, \u001b[39m*\u001b[39m\u001b[39m*\u001b[39mkwargs)\n\u001b[0;32m     75\u001b[0m \u001b[39melse\u001b[39;00m:\n\u001b[0;32m     76\u001b[0m     \u001b[39mreturn\u001b[39;00m simple_geometries_1d(coords, indices, GeometryType\u001b[39m.\u001b[39mPOINT, out\u001b[39m=\u001b[39mout)\n",
      "\u001b[1;31mTypeError\u001b[0m: ufunc 'points' not supported for the input types, and the inputs could not be safely coerced to any supported types according to the casting rule ''safe''"
     ]
    }
   ],
   "source": [
    "# ADD YOUR OWN CODE HERE\n",
    "from shapely import Point\n",
    "data[\"to_x\"] = pd.to_numeric(data[\"to_x\"], errors='coerce')\n",
    "data[\"to_y\"] = pd.to_numeric(data[\"to_y\"], errors='coerce')\n",
    "print(data[\"from_x\"].describe())\n",
    "print(data[\"from_y\"].describe())\n",
    "origin_points = data.apply(lambda row: Point(row[\"from_x\"], row[\"from_y\"]), axis=1)\n",
    "destination_points = data.apply(lambda row: Point(row[\"to_x\"], row[\"to_y\"]), axis=1)"
   ]
  },
  {
   "cell_type": "markdown",
   "metadata": {
    "deletable": false,
    "editable": false
   },
   "source": [
    "\n",
    "**NOTE: After you have solved this problem, there might be some left-over variables around.<br />We recommend you *restart the kernel and run all cells* from the toolbar or JupyterLab’s menu.***\n"
   ]
  },
  {
   "cell_type": "markdown",
   "metadata": {
    "deletable": false,
    "editable": false
   },
   "source": [
    "\n",
    "\n",
    "Use the following code cell to test whether your solution works:"
   ]
  },
  {
   "cell_type": "code",
   "execution_count": 6,
   "metadata": {
    "deletable": false,
    "editable": false,
    "tags": []
   },
   "outputs": [
    {
     "ename": "NameError",
     "evalue": "name 'origin_points' is not defined",
     "output_type": "error",
     "traceback": [
      "\u001b[1;31m---------------------------------------------------------------------------\u001b[0m",
      "\u001b[1;31mNameError\u001b[0m                                 Traceback (most recent call last)",
      "Cell \u001b[1;32mIn [6], line 4\u001b[0m\n\u001b[0;32m      1\u001b[0m \u001b[39m# NON-EDITABLE CODE CELL FOR TESTING YOUR SOLUTION\u001b[39;00m\n\u001b[0;32m      2\u001b[0m \n\u001b[0;32m      3\u001b[0m \u001b[39m# This test print should print out the first origin and destination coordinates in the two lists:\u001b[39;00m\n\u001b[1;32m----> 4\u001b[0m \u001b[39mprint\u001b[39m(\u001b[39m\"\u001b[39m\u001b[39mORIGIN X Y:\u001b[39m\u001b[39m\"\u001b[39m, origin_points[\u001b[39m0\u001b[39m]\u001b[39m.\u001b[39mx, origin_points[\u001b[39m0\u001b[39m]\u001b[39m.\u001b[39my)\n\u001b[0;32m      5\u001b[0m \u001b[39mprint\u001b[39m(\u001b[39m\"\u001b[39m\u001b[39mDESTINATION X Y:\u001b[39m\u001b[39m\"\u001b[39m, destination_points[\u001b[39m0\u001b[39m]\u001b[39m.\u001b[39mx, destination_points[\u001b[39m0\u001b[39m]\u001b[39m.\u001b[39my)\n\u001b[0;32m      7\u001b[0m \u001b[39m# Check that you created a correct amount of points:\u001b[39;00m\n",
      "\u001b[1;31mNameError\u001b[0m: name 'origin_points' is not defined"
     ]
    }
   ],
   "source": [
    "# NON-EDITABLE CODE CELL FOR TESTING YOUR SOLUTION\n",
    "\n",
    "# This test print should print out the first origin and destination coordinates in the two lists:\n",
    "print(\"ORIGIN X Y:\", origin_points[0].x, origin_points[0].y)\n",
    "print(\"DESTINATION X Y:\", destination_points[0].x, destination_points[0].y)\n",
    "\n",
    "# Check that you created a correct amount of points:\n",
    "assert len(origin_points) == len(data), \"Number of origin points must be the same as number of rows in the original file\"\n",
    "assert len(destination_points) == len(data), \"Number of destination points must be the same as number of rows in the original file\""
   ]
  },
  {
   "cell_type": "markdown",
   "metadata": {
    "deletable": false,
    "editable": false
   },
   "source": [
    "\n",
    "----\n",
    "\n",
    "Remember to commit your code using git after each major change (for example, after solving each problem).\n",
    "\n",
    "### Done!\n",
    "\n",
    "That’s it. Now you are ready to continue to problem 4."
   ]
  },
  {
   "cell_type": "markdown",
   "metadata": {
    "deletable": false,
    "editable": false
   },
   "source": [
    "\n",
    "----\n",
    "\n",
    "## Problem 4: Creating LineStrings that represent the movements (*5 points*):\n",
    "\n",
    "This problem continues where we left off after completing *Problem 3*. \n",
    "\n",
    "The task is to:\n",
    "\n",
    "1. create a list lines (`shapely.geometry.LineString`) between each pair of origin and destination points, and \n",
    "2. calculate the over-all total_length of all those lines.\n",
    "\n",
    "Store the list of lines in a variable called `lines`, and the sum of lengths in a variable called `total_length`.\n",
    "\n",
    "Once you have working solutions for both tasks, \n",
    "\n",
    "3. create functions for them so you can apply them to other similar data sets in the future (see instructions below)."
   ]
  },
  {
   "cell_type": "markdown",
   "metadata": {
    "deletable": false,
    "editable": false,
    "jp-MarkdownHeadingCollapsed": true,
    "tags": []
   },
   "source": [
    "#### (1)\n",
    "\n",
    "To create the `shapely.geometry.LineString`s for each pair of origins and destinations, you need to loop over both lists at the same time.\n",
    "\n",
    "Again, there are many ways to achieve this, here are two suggestions (implement either one):\n",
    "\n",
    "- (alternative 1) Use the `zip()` function that allows you to iterate over multiple lists at the same time. See this week’s [exercise hints](https://autogis-site.readthedocs.io/en/latest/lessons/L1/exercise-1.html#hints).\n",
    "- (alternative 2) Use the [*for-range* pattern from lesson 3 of Geo-Python](https://geo-python-site.readthedocs.io/en/latest/notebooks/L3/for-loops.html#looping-over-the-length-of-lists-using-index-values) and an index variable to access the same value in both lists\n"
   ]
  },
  {
   "cell_type": "code",
   "execution_count": null,
   "metadata": {},
   "outputs": [],
   "source": [
    "# ADD YOUR OWN CODE HERE\n"
   ]
  },
  {
   "cell_type": "markdown",
   "metadata": {
    "deletable": false,
    "editable": false
   },
   "source": [
    "\n",
    "**NOTE: After you have solved this problem, there might be some left-over variables around.<br />We recommend you *restart the kernel and run all cells* from the toolbar or JupyterLab’s menu.***\n"
   ]
  },
  {
   "cell_type": "code",
   "execution_count": null,
   "metadata": {
    "deletable": false,
    "editable": false
   },
   "outputs": [],
   "source": [
    "# NON-EDITABLE CODE CELL FOR TESTING YOUR SOLUTION\n",
    "\n",
    "# Test that the list has correct number of LineStrings\n",
    "assert len(lines) == len(data), \"There should be as many lines as there are rows in the original data\""
   ]
  },
  {
   "cell_type": "markdown",
   "metadata": {
    "deletable": false,
    "editable": false,
    "jp-MarkdownHeadingCollapsed": true,
    "tags": []
   },
   "source": [
    "\n",
    "----\n",
    "\n",
    "#### (2)\n",
    "\n",
    "Create a variable called **`total_length`**, and store the total (Euclidian) distance of all the origin-destination LineStrings that we just created into that variable.\n",
    "\n",
    "*Hint*: A simple solution is to start with a `total_length` of `0`, and add each line’s length while iterating over the list of lines.\n"
   ]
  },
  {
   "cell_type": "code",
   "execution_count": null,
   "metadata": {},
   "outputs": [],
   "source": [
    "# ADD YOUR OWN CODE HERE\n"
   ]
  },
  {
   "cell_type": "code",
   "execution_count": null,
   "metadata": {
    "deletable": false,
    "editable": false
   },
   "outputs": [],
   "source": [
    "# NON-EDITABLE CODE CELL FOR TESTING YOUR SOLUTION\n",
    "\n",
    "# This test print should print the total length of all lines\n",
    "print(\"Total length of all lines is\", round(total_length, 2))\n",
    "assert round(total_length, 2) == 3148.57"
   ]
  },
  {
   "cell_type": "markdown",
   "metadata": {
    "deletable": false,
    "editable": false,
    "jp-MarkdownHeadingCollapsed": true,
    "tags": []
   },
   "source": [
    "\n",
    "----\n",
    "\n",
    "#### (3)\n",
    "\n",
    "Now, create functions that automate the functionality you implemented for part (1) and part (2) of this problem:\n",
    "\n",
    "- `create_od_lines()`: accepts two `list`s of `shapely.geometry.Point`s and returns a `list` of `shapely.geometry.LineString`s \n",
    "- `calculate_total_distance()`: takes a `list` of `shapely.geometry.LineString` geometries and returns their total length\n",
    "\n",
    "You can copy and paste the codes you have written earlier into the functions. Be sure to add a **docstring** to each function.\n",
    "Below, you can find a code cell for testing your functions (you should get the same result as earler)."
   ]
  },
  {
   "cell_type": "code",
   "execution_count": null,
   "metadata": {},
   "outputs": [],
   "source": [
    "# ADD YOUR OWN CODE HERE\n"
   ]
  },
  {
   "cell_type": "code",
   "execution_count": null,
   "metadata": {
    "deletable": false,
    "editable": false
   },
   "outputs": [],
   "source": [
    "# NON-EDITABLE CODE CELL FOR TESTING YOUR SOLUTION\n",
    "\n",
    "# Create origin-destination lines\n",
    "od_lines = create_od_lines(origin_points, destination_points)\n",
    "\n",
    "# Calculate the total distance\n",
    "tot_dist = calculate_total_distance(od_lines)\n",
    "\n",
    "print(\"Total distance\", round(tot_dist,2))\n",
    "assert tot_dist == total_length"
   ]
  },
  {
   "cell_type": "markdown",
   "metadata": {
    "deletable": false,
    "editable": false
   },
   "source": [
    "\n",
    "----\n",
    "\n",
    "\n",
    "## Well done!\n",
    "\n",
    "Awesome, now you have successfully practiced how geometries can be created in Python. Next week we will start using them actively."
   ]
  }
 ],
 "metadata": {
  "kernelspec": {
   "display_name": "autogis",
   "language": "python",
   "name": "python3"
  },
  "language_info": {
   "codemirror_mode": {
    "name": "ipython",
    "version": 3
   },
   "file_extension": ".py",
   "mimetype": "text/x-python",
   "name": "python",
   "nbconvert_exporter": "python",
   "pygments_lexer": "ipython3",
   "version": "3.10.8"
  },
  "vscode": {
   "interpreter": {
    "hash": "ed98d4b429b5d559ab6a6ae13c74927a61593fdf6f83901d3923965b876675a5"
   }
  }
 },
 "nbformat": 4,
 "nbformat_minor": 4
}
